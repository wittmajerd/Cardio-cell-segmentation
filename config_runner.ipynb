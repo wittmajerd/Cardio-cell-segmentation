{
 "cells": [
  {
   "cell_type": "code",
   "execution_count": null,
   "metadata": {},
   "outputs": [],
   "source": [
    "import os\n",
    "import gc\n",
    "import numpy as np\n",
    "import json\n",
    "import torch\n",
    "from torch.utils.data import DataLoader\n",
    "from torchinfo import summary\n",
    "\n",
    "import matplotlib.pyplot as plt\n",
    "import matplotlib.patches as mpatches\n",
    "\n",
    "from src.utils import *\n",
    "from src.runner import run_config\n",
    "\n",
    "from src.models import UNet, UNet2, UNet4, UNet8, UNet2Shallow, UNet4Shallow, UNet8Shallow\n",
    "from src.model_parts import SingleConv, DoubleConv, TripleConv"
   ]
  },
  {
   "cell_type": "code",
   "execution_count": null,
   "metadata": {},
   "outputs": [
    {
     "name": "stdout",
     "output_type": "stream",
     "text": [
      "Using device cuda\n",
      "Datasets created!\n",
      "Starting run 1...\n",
      "UNet\n",
      "C:/7_felev/szakdoga\\UNet_len1_doubleconv\n"
     ]
    },
    {
     "name": "stderr",
     "output_type": "stream",
     "text": [
      "\u001b[34m\u001b[1mwandb\u001b[0m: Using wandb-core as the SDK backend. Please refer to https://wandb.me/wandb-core for more information.\n",
      "\u001b[34m\u001b[1mwandb\u001b[0m: Currently logged in as: \u001b[33mwdavid\u001b[0m (\u001b[33mwdave\u001b[0m). Use \u001b[1m`wandb login --relogin`\u001b[0m to force relogin\n"
     ]
    },
    {
     "data": {
      "text/html": [
       "Tracking run with wandb version 0.18.2"
      ],
      "text/plain": [
       "<IPython.core.display.HTML object>"
      ]
     },
     "metadata": {},
     "output_type": "display_data"
    },
    {
     "data": {
      "text/html": [
       "Run data is saved locally in <code>C:/7_felev/szakdoga\\UNet_len1_doubleconv\\wandb\\run-20241105_133345-4o9l2s4b</code>"
      ],
      "text/plain": [
       "<IPython.core.display.HTML object>"
      ]
     },
     "metadata": {},
     "output_type": "display_data"
    },
    {
     "data": {
      "text/html": [
       "Syncing run <strong><a href='https://wandb.ai/wdave/UNet/runs/4o9l2s4b' target=\"_blank\">UNet_len1_doubleconv</a></strong> to <a href='https://wandb.ai/wdave/UNet' target=\"_blank\">Weights & Biases</a> (<a href='https://wandb.me/run' target=\"_blank\">docs</a>)<br/>"
      ],
      "text/plain": [
       "<IPython.core.display.HTML object>"
      ]
     },
     "metadata": {},
     "output_type": "display_data"
    },
    {
     "data": {
      "text/html": [
       " View project at <a href='https://wandb.ai/wdave/UNet' target=\"_blank\">https://wandb.ai/wdave/UNet</a>"
      ],
      "text/plain": [
       "<IPython.core.display.HTML object>"
      ]
     },
     "metadata": {},
     "output_type": "display_data"
    },
    {
     "data": {
      "text/html": [
       " View run at <a href='https://wandb.ai/wdave/UNet/runs/4o9l2s4b' target=\"_blank\">https://wandb.ai/wdave/UNet/runs/4o9l2s4b</a>"
      ],
      "text/plain": [
       "<IPython.core.display.HTML object>"
      ]
     },
     "metadata": {},
     "output_type": "display_data"
    },
    {
     "name": "stdout",
     "output_type": "stream",
     "text": [
      "Starting training:\n",
      "        Epochs:          20\n",
      "        Batch size:      26\n",
      "        Learning rate:   0.01\n",
      "        Training size:   104\n",
      "        Validation size: 26\n",
      "        Device:          cuda\n",
      "        Mixed Precision: True\n",
      "    \n"
     ]
    },
    {
     "name": "stderr",
     "output_type": "stream",
     "text": [
      "                                                                  s (batch)=1.05]\r"
     ]
    },
    {
     "name": "stdout",
     "output_type": "stream",
     "text": [
      "Validation Dice score: 0.017388153821229935, Detection rate: 0.09171443460135487\n"
     ]
    },
    {
     "name": "stderr",
     "output_type": "stream",
     "text": [
      "Epoch 1/20: 100%|██████████| 104/104 [00:33<00:00,  3.10img/s, loss (batch)=1.05]\n"
     ]
    },
    {
     "name": "stdout",
     "output_type": "stream",
     "text": [
      "Checkpoint 1 saved!\n"
     ]
    },
    {
     "name": "stderr",
     "output_type": "stream",
     "text": [
      "                                                                  s (batch)=0.939]\r"
     ]
    },
    {
     "name": "stdout",
     "output_type": "stream",
     "text": [
      "Validation Dice score: 8.249743999044767e-09, Detection rate: 0.0\n"
     ]
    },
    {
     "name": "stderr",
     "output_type": "stream",
     "text": [
      "Epoch 2/20: 100%|██████████| 104/104 [00:31<00:00,  3.25img/s, loss (batch)=0.939]\n"
     ]
    },
    {
     "name": "stdout",
     "output_type": "stream",
     "text": [
      "Checkpoint 2 saved!\n"
     ]
    },
    {
     "name": "stderr",
     "output_type": "stream",
     "text": [
      "                                                                  s (batch)=0.838]\r"
     ]
    },
    {
     "name": "stdout",
     "output_type": "stream",
     "text": [
      "Validation Dice score: 0.2453860193490982, Detection rate: 0.47107868681605003\n"
     ]
    },
    {
     "name": "stderr",
     "output_type": "stream",
     "text": [
      "Epoch 3/20: 100%|██████████| 104/104 [00:32<00:00,  3.23img/s, loss (batch)=0.838]\n"
     ]
    },
    {
     "name": "stdout",
     "output_type": "stream",
     "text": [
      "Checkpoint 3 saved!\n"
     ]
    },
    {
     "name": "stderr",
     "output_type": "stream",
     "text": [
      "                                                                  s (batch)=0.799]\r"
     ]
    },
    {
     "name": "stdout",
     "output_type": "stream",
     "text": [
      "Validation Dice score: 0.4148111939430237, Detection rate: 0.6018759770713914\n"
     ]
    },
    {
     "name": "stderr",
     "output_type": "stream",
     "text": [
      "Epoch 4/20: 100%|██████████| 104/104 [00:30<00:00,  3.41img/s, loss (batch)=0.799]\n"
     ]
    },
    {
     "name": "stdout",
     "output_type": "stream",
     "text": [
      "Checkpoint 4 saved!\n"
     ]
    },
    {
     "name": "stderr",
     "output_type": "stream",
     "text": [
      "                                                                  s (batch)=0.854]\r"
     ]
    },
    {
     "name": "stdout",
     "output_type": "stream",
     "text": [
      "Validation Dice score: 0.16740058362483978, Detection rate: 0.21886399166232412\n"
     ]
    },
    {
     "name": "stderr",
     "output_type": "stream",
     "text": [
      "Epoch 5/20: 100%|██████████| 104/104 [00:29<00:00,  3.47img/s, loss (batch)=0.854]\n"
     ]
    },
    {
     "name": "stdout",
     "output_type": "stream",
     "text": [
      "Checkpoint 5 saved!\n"
     ]
    },
    {
     "name": "stderr",
     "output_type": "stream",
     "text": [
      "                                                                  s (batch)=0.722]\r"
     ]
    },
    {
     "name": "stdout",
     "output_type": "stream",
     "text": [
      "Validation Dice score: 0.3393992781639099, Detection rate: 0.7316310578426264\n"
     ]
    },
    {
     "name": "stderr",
     "output_type": "stream",
     "text": [
      "Epoch 6/20: 100%|██████████| 104/104 [00:29<00:00,  3.54img/s, loss (batch)=0.722]\n"
     ]
    },
    {
     "name": "stdout",
     "output_type": "stream",
     "text": [
      "Checkpoint 6 saved!\n"
     ]
    },
    {
     "name": "stderr",
     "output_type": "stream",
     "text": [
      "                                                                  s (batch)=0.702]\r"
     ]
    },
    {
     "name": "stdout",
     "output_type": "stream",
     "text": [
      "Validation Dice score: 0.33086836338043213, Detection rate: 0.5622720166753518\n"
     ]
    },
    {
     "name": "stderr",
     "output_type": "stream",
     "text": [
      "Epoch 7/20: 100%|██████████| 104/104 [00:29<00:00,  3.54img/s, loss (batch)=0.702]\n"
     ]
    },
    {
     "name": "stdout",
     "output_type": "stream",
     "text": [
      "Checkpoint 7 saved!\n"
     ]
    },
    {
     "name": "stderr",
     "output_type": "stream",
     "text": [
      "                                                                  s (batch)=0.716]\r"
     ]
    },
    {
     "name": "stdout",
     "output_type": "stream",
     "text": [
      "Validation Dice score: 0.3966467082500458, Detection rate: 0.7837415320479416\n"
     ]
    },
    {
     "name": "stderr",
     "output_type": "stream",
     "text": [
      "Epoch 8/20: 100%|██████████| 104/104 [00:28<00:00,  3.60img/s, loss (batch)=0.716]\n"
     ]
    },
    {
     "name": "stdout",
     "output_type": "stream",
     "text": [
      "Checkpoint 8 saved!\n"
     ]
    },
    {
     "name": "stderr",
     "output_type": "stream",
     "text": [
      "                                                                  s (batch)=0.756]\r"
     ]
    },
    {
     "name": "stdout",
     "output_type": "stream",
     "text": [
      "Validation Dice score: 0.4332689344882965, Detection rate: 0.8311620635747785\n"
     ]
    },
    {
     "name": "stderr",
     "output_type": "stream",
     "text": [
      "Epoch 9/20: 100%|██████████| 104/104 [00:28<00:00,  3.62img/s, loss (batch)=0.756]\n"
     ]
    },
    {
     "name": "stdout",
     "output_type": "stream",
     "text": [
      "Checkpoint 9 saved!\n"
     ]
    },
    {
     "name": "stderr",
     "output_type": "stream",
     "text": [
      "                                                                  ss (batch)=0.714]\r"
     ]
    },
    {
     "name": "stdout",
     "output_type": "stream",
     "text": [
      "Validation Dice score: 0.454252690076828, Detection rate: 0.7998957790515894\n"
     ]
    },
    {
     "name": "stderr",
     "output_type": "stream",
     "text": [
      "Epoch 10/20: 100%|██████████| 104/104 [00:28<00:00,  3.59img/s, loss (batch)=0.714]\n"
     ]
    },
    {
     "name": "stdout",
     "output_type": "stream",
     "text": [
      "Checkpoint 10 saved!\n"
     ]
    },
    {
     "name": "stderr",
     "output_type": "stream",
     "text": [
      "                                                                  ss (batch)=0.699]\r"
     ]
    },
    {
     "name": "stdout",
     "output_type": "stream",
     "text": [
      "Validation Dice score: 0.45927688479423523, Detection rate: 0.8056279312141741\n"
     ]
    },
    {
     "name": "stderr",
     "output_type": "stream",
     "text": [
      "Epoch 11/20: 100%|██████████| 104/104 [00:29<00:00,  3.57img/s, loss (batch)=0.699]\n"
     ]
    },
    {
     "name": "stdout",
     "output_type": "stream",
     "text": [
      "Checkpoint 11 saved!\n"
     ]
    },
    {
     "name": "stderr",
     "output_type": "stream",
     "text": [
      "                                                                  ss (batch)=0.723]\r"
     ]
    },
    {
     "name": "stdout",
     "output_type": "stream",
     "text": [
      "Validation Dice score: 0.4646802544593811, Detection rate: 0.8124022928608651\n"
     ]
    },
    {
     "name": "stderr",
     "output_type": "stream",
     "text": [
      "Epoch 12/20: 100%|██████████| 104/104 [00:28<00:00,  3.66img/s, loss (batch)=0.723]\n"
     ]
    },
    {
     "name": "stdout",
     "output_type": "stream",
     "text": [
      "Checkpoint 12 saved!\n"
     ]
    },
    {
     "name": "stderr",
     "output_type": "stream",
     "text": [
      "                                                                  ss (batch)=0.677]\r"
     ]
    },
    {
     "name": "stdout",
     "output_type": "stream",
     "text": [
      "Validation Dice score: 0.4465489983558655, Detection rate: 0.8332464825429912\n"
     ]
    },
    {
     "name": "stderr",
     "output_type": "stream",
     "text": [
      "Epoch 13/20: 100%|██████████| 104/104 [00:28<00:00,  3.62img/s, loss (batch)=0.677]\n"
     ]
    },
    {
     "name": "stdout",
     "output_type": "stream",
     "text": [
      "Checkpoint 13 saved!\n"
     ]
    },
    {
     "name": "stderr",
     "output_type": "stream",
     "text": [
      "                                                                  ss (batch)=0.737]\r"
     ]
    },
    {
     "name": "stdout",
     "output_type": "stream",
     "text": [
      "Validation Dice score: 0.4795244038105011, Detection rate: 0.8733715476810839\n"
     ]
    },
    {
     "name": "stderr",
     "output_type": "stream",
     "text": [
      "Epoch 14/20: 100%|██████████| 104/104 [00:29<00:00,  3.51img/s, loss (batch)=0.737]\n"
     ]
    },
    {
     "name": "stdout",
     "output_type": "stream",
     "text": [
      "Checkpoint 14 saved!\n"
     ]
    },
    {
     "name": "stderr",
     "output_type": "stream",
     "text": [
      "                                                                  ss (batch)=0.699]\r"
     ]
    },
    {
     "name": "stdout",
     "output_type": "stream",
     "text": [
      "Validation Dice score: 0.4649102985858917, Detection rate: 0.8624283480979676\n"
     ]
    },
    {
     "name": "stderr",
     "output_type": "stream",
     "text": [
      "Epoch 15/20: 100%|██████████| 104/104 [00:28<00:00,  3.66img/s, loss (batch)=0.699]\n"
     ]
    },
    {
     "name": "stdout",
     "output_type": "stream",
     "text": [
      "Checkpoint 15 saved!\n"
     ]
    },
    {
     "name": "stderr",
     "output_type": "stream",
     "text": [
      "                                                                  ss (batch)=0.702]\r"
     ]
    },
    {
     "name": "stdout",
     "output_type": "stream",
     "text": [
      "Validation Dice score: 0.4486611485481262, Detection rate: 0.8707660239708181\n"
     ]
    },
    {
     "name": "stderr",
     "output_type": "stream",
     "text": [
      "Epoch 16/20: 100%|██████████| 104/104 [00:28<00:00,  3.64img/s, loss (batch)=0.702]\n"
     ]
    },
    {
     "name": "stdout",
     "output_type": "stream",
     "text": [
      "Checkpoint 16 saved!\n"
     ]
    },
    {
     "name": "stderr",
     "output_type": "stream",
     "text": [
      "                                                                  ss (batch)=0.675]\r"
     ]
    },
    {
     "name": "stdout",
     "output_type": "stream",
     "text": [
      "Validation Dice score: 0.4438575506210327, Detection rate: 0.8285565398645127\n"
     ]
    },
    {
     "name": "stderr",
     "output_type": "stream",
     "text": [
      "Epoch 17/20: 100%|██████████| 104/104 [00:28<00:00,  3.60img/s, loss (batch)=0.675]\n"
     ]
    },
    {
     "name": "stdout",
     "output_type": "stream",
     "text": [
      "Checkpoint 17 saved!\n"
     ]
    },
    {
     "name": "stderr",
     "output_type": "stream",
     "text": [
      "                                                                  ss (batch)=0.65]\r"
     ]
    },
    {
     "name": "stdout",
     "output_type": "stream",
     "text": [
      "Validation Dice score: 0.45383593440055847, Detection rate: 0.8280354351224596\n"
     ]
    },
    {
     "name": "stderr",
     "output_type": "stream",
     "text": [
      "Epoch 18/20: 100%|██████████| 104/104 [00:28<00:00,  3.66img/s, loss (batch)=0.65]\n"
     ]
    },
    {
     "name": "stdout",
     "output_type": "stream",
     "text": [
      "Checkpoint 18 saved!\n"
     ]
    },
    {
     "name": "stderr",
     "output_type": "stream",
     "text": [
      "                                                                  ss (batch)=0.643]\r"
     ]
    },
    {
     "name": "stdout",
     "output_type": "stream",
     "text": [
      "Validation Dice score: 0.4857889413833618, Detection rate: 0.8806670140698281\n"
     ]
    },
    {
     "name": "stderr",
     "output_type": "stream",
     "text": [
      "Epoch 19/20: 100%|██████████| 104/104 [00:29<00:00,  3.54img/s, loss (batch)=0.643]\n"
     ]
    },
    {
     "name": "stdout",
     "output_type": "stream",
     "text": [
      "Checkpoint 19 saved!\n"
     ]
    },
    {
     "name": "stderr",
     "output_type": "stream",
     "text": [
      "                                                                  ss (batch)=0.72]\r"
     ]
    },
    {
     "name": "stdout",
     "output_type": "stream",
     "text": [
      "Validation Dice score: 0.4874017536640167, Detection rate: 0.8811881188118812\n"
     ]
    },
    {
     "name": "stderr",
     "output_type": "stream",
     "text": [
      "Epoch 20/20: 100%|██████████| 104/104 [00:29<00:00,  3.53img/s, loss (batch)=0.72]\n"
     ]
    },
    {
     "name": "stdout",
     "output_type": "stream",
     "text": [
      "Checkpoint 20 saved!\n"
     ]
    },
    {
     "data": {
      "application/vnd.jupyter.widget-view+json": {
       "model_id": "1db23f0bb62d47a08a35b82dd6994645",
       "version_major": 2,
       "version_minor": 0
      },
      "text/plain": [
       "VBox(children=(Label(value='0.151 MB of 0.151 MB uploaded\\r'), FloatProgress(value=1.0, max=1.0)))"
      ]
     },
     "metadata": {},
     "output_type": "display_data"
    },
    {
     "data": {
      "text/html": [
       "<style>\n",
       "    table.wandb td:nth-child(1) { padding: 0 10px; text-align: left ; width: auto;} td:nth-child(2) {text-align: left ; width: 100%}\n",
       "    .wandb-row { display: flex; flex-direction: row; flex-wrap: wrap; justify-content: flex-start; width: 100% }\n",
       "    .wandb-col { display: flex; flex-direction: column; flex-basis: 100%; flex: 1; padding: 10px; }\n",
       "    </style>\n",
       "<div class=\"wandb-row\"><div class=\"wandb-col\"><h3>Run history:</h3><br/><table class=\"wandb\"><tr><td>detection_rate</td><td>▂▁▅▆▃▇▅▇█▇▇▇████████</td></tr><tr><td>epoch</td><td>▁▁▁▂▂▂▂▂▂▂▃▃▃▃▃▄▄▄▄▄▄▅▅▅▅▅▆▆▆▆▇▇▇▇▇▇▇███</td></tr><tr><td>learning rate</td><td>▁▁▁▁▁▁▁▁▁▁▁▁▁▁▁▁▁▁▁▁</td></tr><tr><td>step</td><td>▁▁▁▁▁▂▂▂▂▂▃▃▃▃▃▃▃▄▄▄▄▄▄▄▅▅▅▅▅▆▆▆▆▇▇▇████</td></tr><tr><td>train loss</td><td>█▆▆▅▃▄▃▃▄▂▃▂▄▃▂▁▂▂▂▂▂▂▂▁▂▂▁▂▁▁▂▁▂▁▂▁▂▂▁▂</td></tr><tr><td>validation Dice</td><td>▁▁▅▇▃▆▆▇▇███▇██▇▇███</td></tr></table><br/></div><div class=\"wandb-col\"><h3>Run summary:</h3><br/><table class=\"wandb\"><tr><td>detection_rate</td><td>0.88119</td></tr><tr><td>epoch</td><td>20</td></tr><tr><td>learning rate</td><td>0.01</td></tr><tr><td>step</td><td>80</td></tr><tr><td>train loss</td><td>0.71991</td></tr><tr><td>validation Dice</td><td>0.4874</td></tr></table><br/></div></div>"
      ],
      "text/plain": [
       "<IPython.core.display.HTML object>"
      ]
     },
     "metadata": {},
     "output_type": "display_data"
    },
    {
     "data": {
      "text/html": [
       " View run <strong style=\"color:#cdcd00\">UNet_len1_doubleconv</strong> at: <a href='https://wandb.ai/wdave/UNet/runs/4o9l2s4b' target=\"_blank\">https://wandb.ai/wdave/UNet/runs/4o9l2s4b</a><br/> View project at: <a href='https://wandb.ai/wdave/UNet' target=\"_blank\">https://wandb.ai/wdave/UNet</a><br/>Synced 4 W&B file(s), 0 media file(s), 3 artifact file(s) and 100 other file(s)"
      ],
      "text/plain": [
       "<IPython.core.display.HTML object>"
      ]
     },
     "metadata": {},
     "output_type": "display_data"
    },
    {
     "data": {
      "text/html": [
       "Find logs at: <code>C:/7_felev/szakdoga\\UNet_len1_doubleconv\\wandb\\run-20241105_133345-4o9l2s4b\\logs</code>"
      ],
      "text/plain": [
       "<IPython.core.display.HTML object>"
      ]
     },
     "metadata": {},
     "output_type": "display_data"
    },
    {
     "name": "stdout",
     "output_type": "stream",
     "text": [
      "\n"
     ]
    },
    {
     "ename": "NameError",
     "evalue": "name 'find_best_epoch' is not defined",
     "output_type": "error",
     "traceback": [
      "\u001b[1;31m---------------------------------------------------------------------------\u001b[0m",
      "\u001b[1;31mNameError\u001b[0m                                 Traceback (most recent call last)",
      "Cell \u001b[1;32mIn[2], line 41\u001b[0m\n\u001b[0;32m      1\u001b[0m config \u001b[38;5;241m=\u001b[39m {\n\u001b[0;32m      2\u001b[0m     \u001b[38;5;124m'\u001b[39m\u001b[38;5;124mdata_path\u001b[39m\u001b[38;5;124m'\u001b[39m: \u001b[38;5;124m'\u001b[39m\u001b[38;5;124mC:/7_felev/data\u001b[39m\u001b[38;5;124m'\u001b[39m,\n\u001b[0;32m      3\u001b[0m     \u001b[38;5;124m'\u001b[39m\u001b[38;5;124msave_path\u001b[39m\u001b[38;5;124m'\u001b[39m: \u001b[38;5;124m'\u001b[39m\u001b[38;5;124mC:/7_felev/szakdoga\u001b[39m\u001b[38;5;124m'\u001b[39m,\n\u001b[1;32m   (...)\u001b[0m\n\u001b[0;32m     37\u001b[0m     \u001b[38;5;124m'\u001b[39m\u001b[38;5;124mdilation\u001b[39m\u001b[38;5;124m'\u001b[39m: \u001b[38;5;241m0\u001b[39m,\n\u001b[0;32m     38\u001b[0m }\n\u001b[0;32m     40\u001b[0m \u001b[38;5;66;03m# test_tiling(config)\u001b[39;00m\n\u001b[1;32m---> 41\u001b[0m run_config(config)\n",
      "File \u001b[1;32mc:\\onlab_git\\Cardio-cell-segmentation\\src\\runner.py:82\u001b[0m, in \u001b[0;36mrun_config\u001b[1;34m(config)\u001b[0m\n\u001b[0;32m     80\u001b[0m json\u001b[38;5;241m.\u001b[39mdump(log, \u001b[38;5;28mopen\u001b[39m(os\u001b[38;5;241m.\u001b[39mpath\u001b[38;5;241m.\u001b[39mjoin(run_path, \u001b[38;5;124m'\u001b[39m\u001b[38;5;124mlog.json\u001b[39m\u001b[38;5;124m'\u001b[39m), \u001b[38;5;124m'\u001b[39m\u001b[38;5;124mw\u001b[39m\u001b[38;5;124m'\u001b[39m), indent\u001b[38;5;241m=\u001b[39m\u001b[38;5;241m4\u001b[39m)\n\u001b[0;32m     81\u001b[0m \u001b[38;5;28mprint\u001b[39m()\n\u001b[1;32m---> 82\u001b[0m best_epoch \u001b[38;5;241m=\u001b[39m find_best_epoch(log)\n\u001b[0;32m     83\u001b[0m \u001b[38;5;28mprint\u001b[39m(\u001b[38;5;124mf\u001b[39m\u001b[38;5;124m'\u001b[39m\u001b[38;5;130;01m\\n\u001b[39;00m\u001b[38;5;124mBest epoch: \u001b[39m\u001b[38;5;132;01m{\u001b[39;00mbest_epoch\u001b[38;5;132;01m}\u001b[39;00m\u001b[38;5;124m'\u001b[39m)\n\u001b[0;32m     84\u001b[0m best_checkpoint \u001b[38;5;241m=\u001b[39m torch\u001b[38;5;241m.\u001b[39mload(os\u001b[38;5;241m.\u001b[39mpath\u001b[38;5;241m.\u001b[39mjoin(model_checkpoint_path, \u001b[38;5;124mf\u001b[39m\u001b[38;5;124m'\u001b[39m\u001b[38;5;124mcheckpoint_epoch\u001b[39m\u001b[38;5;132;01m{\u001b[39;00mbest_epoch\u001b[38;5;132;01m}\u001b[39;00m\u001b[38;5;124m.pth\u001b[39m\u001b[38;5;124m'\u001b[39m))\n",
      "\u001b[1;31mNameError\u001b[0m: name 'find_best_epoch' is not defined"
     ]
    }
   ],
   "source": [
    "config = {\n",
    "    'data_path': 'C:/7_felev/data',\n",
    "    'save_path': 'C:/7_felev/szakdoga',\n",
    "    # Each run name should be unique, even if the same model is used \n",
    "    # or it will overwrite the previous run\n",
    "    'run_name': 'UNet_len1_doubleconv',\n",
    "    'project_name': 'UNet',\n",
    "    'wandb_logging': True,\n",
    "\n",
    "    # Unet, UNet2, UNet4, UNet8, Unet2Shallow, UNet4Shallow, UNet8Shallow\n",
    "    'model': UNet,\n",
    "    'down_conv': DoubleConv,\n",
    "    'up_conv': DoubleConv,\n",
    "    'bilinear': False,\n",
    "\n",
    "    'biosensor_length': 1,\n",
    "    'input_scale': 1,\n",
    "    # for the imput scaling\n",
    "    'SRRF_mode': 'eSRRF', # 'eSRRF', 'SRRF', None\n",
    "    'mask_scale': 1,\n",
    "    \n",
    "    'batch_size': 26,\n",
    "    'epochs': 20,\n",
    "    'learning_rate': 0.01,\n",
    "    # K-fold cross validation\n",
    "    'k': 5,\n",
    "\n",
    "    'mask_type': bool,\n",
    "    'augment': True,\n",
    "    'normalize': True,\n",
    "    'shuffle': True,\n",
    "    \n",
    "    'tiling': False,\n",
    "    'tiling_ratio': 10,\n",
    "    'overlap_rate': 0.25,\n",
    "\n",
    "    'dilation': 0,\n",
    "}\n",
    "\n",
    "# test_tiling(config)\n",
    "run_config(config)"
   ]
  },
  {
   "cell_type": "code",
   "execution_count": null,
   "metadata": {},
   "outputs": [],
   "source": [
    "config2 = {\n",
    "    'data_path': 'C:/7_felev/data',\n",
    "    'save_path': 'C:/7_felev/szakdoga',\n",
    "    # Each run name should be unique, even if the same model is used \n",
    "    # or it will overwrite the previous run\n",
    "    'run_name': 'UNet4_len8_doubleconv',\n",
    "    'project_name': 'UNet4',\n",
    "    'wandb_logging': True,\n",
    "\n",
    "    # Unet, UNet2, UNet4, UNet8, Unet2Shallow, UNet4Shallow, UNet8Shallow\n",
    "    'model': UNet4,\n",
    "    'down_conv': DoubleConv,\n",
    "    'up_conv': DoubleConv,\n",
    "    'bilinear': False,\n",
    "\n",
    "    'biosensor_length': 8,\n",
    "    'input_scale': 1,\n",
    "    # for the imput scaling\n",
    "    'SRRF_mode': 'eSRRF', # 'eSRRF', 'SRRF', None\n",
    "    'mask_scale': 4,\n",
    "    \n",
    "    'batch_size': 13,\n",
    "    'epochs': 20,\n",
    "    'learning_rate': 0.01,\n",
    "    # K-fold cross validation\n",
    "    'k': 5,\n",
    "\n",
    "    'mask_type': bool,\n",
    "    'augment': True,\n",
    "    'normalize': True,\n",
    "    'shuffle': True,\n",
    "    \n",
    "    'tiling': False,\n",
    "    'tiling_ratio': 10,\n",
    "    'overlap_rate': 0.25,\n",
    "\n",
    "    'dilation': 0,\n",
    "}\n",
    "\n",
    "run_config(config2)"
   ]
  },
  {
   "cell_type": "code",
   "execution_count": null,
   "metadata": {},
   "outputs": [],
   "source": [
    "config3 = config2.copy()\n",
    "config3['run_name'] = 'UNet4_len8_singleconv'\n",
    "config3['down_conv'] = config3['up_conv'] = SingleConv\n",
    "run_config(config3)"
   ]
  },
  {
   "cell_type": "code",
   "execution_count": null,
   "metadata": {},
   "outputs": [],
   "source": [
    "config4 = config3.copy()\n",
    "config4['run_name'] = 'UNet4_len1_singleconv'\n",
    "config4['biosensor_length'] = 1\n",
    "run_config(config4)"
   ]
  },
  {
   "cell_type": "code",
   "execution_count": null,
   "metadata": {},
   "outputs": [],
   "source": [
    "config5 = {\n",
    "    'data_path': 'C:/7_felev/data',\n",
    "    'save_path': 'C:/7_felev/szakdoga',\n",
    "    # Each run name should be unique, even if the same model is used \n",
    "    # or it will overwrite the previous run\n",
    "    'run_name': 'UNet8_len8_doubleconv',\n",
    "    'project_name': 'UNet8',\n",
    "    'wandb_logging': True,\n",
    "\n",
    "    # Unet, UNet2, UNet4, UNet8, Unet2Shallow, UNet4Shallow, UNet8Shallow\n",
    "    'model': UNet8,\n",
    "    'down_conv': DoubleConv,\n",
    "    'up_conv': DoubleConv,\n",
    "    'bilinear': False,\n",
    "\n",
    "    'biosensor_length': 8,\n",
    "    'input_scale': 1,\n",
    "    # for the imput scaling\n",
    "    'SRRF_mode': 'eSRRF', # 'eSRRF', 'SRRF', None\n",
    "    'mask_scale': 8,\n",
    "    \n",
    "    'batch_size': 13,\n",
    "    'epochs': 20,\n",
    "    'learning_rate': 0.01,\n",
    "    # K-fold cross validation\n",
    "    'k': 5,\n",
    "\n",
    "    'mask_type': bool,\n",
    "    'augment': True,\n",
    "    'normalize': True,\n",
    "    'shuffle': True,\n",
    "    \n",
    "    'tiling': False,\n",
    "    'tiling_ratio': 10,\n",
    "    'overlap_rate': 0.25,\n",
    "\n",
    "    'dilation': 0,\n",
    "}\n",
    "\n",
    "run_config(config5)"
   ]
  },
  {
   "cell_type": "code",
   "execution_count": null,
   "metadata": {},
   "outputs": [],
   "source": [
    "config6 = config5.copy()\n",
    "config6['run_name'] = 'UNet8_len8_singleconv'\n",
    "config6['down_conv'] = config6['up_conv'] = SingleConv\n",
    "run_config(config6)"
   ]
  },
  {
   "cell_type": "code",
   "execution_count": null,
   "metadata": {},
   "outputs": [],
   "source": [
    "config7 = config6.copy()\n",
    "config7['run_name'] = 'UNet8_len1_singleconv'\n",
    "config7['biosensor_length'] = 1\n",
    "run_config(config7)"
   ]
  }
 ],
 "metadata": {
  "kernelspec": {
   "display_name": "base",
   "language": "python",
   "name": "python3"
  },
  "language_info": {
   "codemirror_mode": {
    "name": "ipython",
    "version": 3
   },
   "file_extension": ".py",
   "mimetype": "text/x-python",
   "name": "python",
   "nbconvert_exporter": "python",
   "pygments_lexer": "ipython3",
   "version": "3.11.7"
  }
 },
 "nbformat": 4,
 "nbformat_minor": 2
}
